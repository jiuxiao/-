{
 "cells": [
  {
   "cell_type": "markdown",
   "metadata": {},
   "source": [
    "## 字符串\n",
    "### 创建字符串\n",
    "#### 可以使用单引号或双引号甚至三引号创建"
   ]
  },
  {
   "cell_type": "code",
   "execution_count": 6,
   "metadata": {},
   "outputs": [
    {
     "name": "stdout",
     "output_type": "stream",
     "text": [
      "String with the use of single quotes:\n",
      "welcome to the geeks world\n",
      "\n",
      "String with the use of Double quotes:\n",
      "I'm a Geek\n",
      "\n",
      "String with the use of Triple quotes:\n",
      "I'm a Geek and I live in a world of Geeks\n",
      "\n",
      "Creating a muliline string:\n",
      "Geeks\n",
      "             For\n",
      "             Life\n"
     ]
    }
   ],
   "source": [
    "String1 = 'welcome to the geeks world'\n",
    "print(\"String with the use of single quotes:\")\n",
    "print(String1)\n",
    "\n",
    "String2 = \"I'm a Geek\"\n",
    "print(\"\\nString with the use of Double quotes:\")\n",
    "print(String2)\n",
    "\n",
    "String3 = '''I'm a Geek and I live in a world of Geeks'''\n",
    "print(\"\\nString with the use of Triple quotes:\")\n",
    "print(String3)\n",
    "\n",
    "String4 = '''Geeks\n",
    "             For\n",
    "             Life'''\n",
    "print(\"\\nCreating a muliline string:\")\n",
    "print(String4)"
   ]
  },
  {
   "cell_type": "markdown",
   "metadata": {},
   "source": [
    "### 在python中访问字符\n",
    "#### 可以使用索引对字符串进行访问；索引允许负地址；-1指最后一个字符"
   ]
  },
  {
   "cell_type": "code",
   "execution_count": 7,
   "metadata": {},
   "outputs": [
    {
     "name": "stdout",
     "output_type": "stream",
     "text": [
      "Initial String:\n",
      "GeeksForGeeks\n",
      "G\n",
      "s\n"
     ]
    }
   ],
   "source": [
    "String1 = \"GeeksForGeeks\"\n",
    "print(\"Initial String:\")\n",
    "print(String1)\n",
    "\n",
    "print(String1[0])\n",
    "\n",
    "print(String1[-1])"
   ]
  },
  {
   "cell_type": "markdown",
   "metadata": {},
   "source": [
    "### 字符串切片"
   ]
  },
  {
   "cell_type": "code",
   "execution_count": 9,
   "metadata": {},
   "outputs": [
    {
     "name": "stdout",
     "output_type": "stream",
     "text": [
      "GeeksForGeeks\n",
      "\n",
      "Slicing char from 3-12:\n",
      "ksForGeek\n",
      "\n",
      "Slicing char between 3rd and 2nd last char:\n",
      "ksForGee\n"
     ]
    }
   ],
   "source": [
    "String1 = \"GeeksForGeeks\"\n",
    "print(String1)\n",
    "\n",
    "print(\"\\nSlicing char from 3-12:\")\n",
    "print(String1[3:12])\n",
    "\n",
    "print(\"\\nSlicing char between 3rd and 2nd last char:\")\n",
    "print(String1[3:-2])"
   ]
  },
  {
   "cell_type": "markdown",
   "metadata": {},
   "source": [
    "### 字符串删除/更新\n",
    "#### 在python中不允许更新和删除字符串中的字符；字符串是不可变的；"
   ]
  },
  {
   "cell_type": "code",
   "execution_count": 10,
   "metadata": {},
   "outputs": [
    {
     "name": "stdout",
     "output_type": "stream",
     "text": [
      "Hello, Iam a Geek\n"
     ]
    },
    {
     "ename": "TypeError",
     "evalue": "'str' object does not support item assignment",
     "output_type": "error",
     "traceback": [
      "\u001b[1;31m---------------------------------------------------------------------------\u001b[0m",
      "\u001b[1;31mTypeError\u001b[0m                                 Traceback (most recent call last)",
      "\u001b[1;32m<ipython-input-10-80d8b97e745d>\u001b[0m in \u001b[0;36m<module>\u001b[1;34m()\u001b[0m\n\u001b[0;32m      2\u001b[0m \u001b[0mprint\u001b[0m\u001b[1;33m(\u001b[0m\u001b[0mString1\u001b[0m\u001b[1;33m)\u001b[0m\u001b[1;33m\u001b[0m\u001b[0m\n\u001b[0;32m      3\u001b[0m \u001b[1;33m\u001b[0m\u001b[0m\n\u001b[1;32m----> 4\u001b[1;33m \u001b[0mString1\u001b[0m\u001b[1;33m[\u001b[0m\u001b[1;36m2\u001b[0m\u001b[1;33m]\u001b[0m \u001b[1;33m=\u001b[0m \u001b[1;34m'p'\u001b[0m\u001b[1;33m\u001b[0m\u001b[0m\n\u001b[0m\u001b[0;32m      5\u001b[0m \u001b[0mprint\u001b[0m\u001b[1;33m(\u001b[0m\u001b[1;34m\"\\nUpdating char at 2nd index:\"\u001b[0m\u001b[1;33m)\u001b[0m\u001b[1;33m\u001b[0m\u001b[0m\n\u001b[0;32m      6\u001b[0m \u001b[0mprint\u001b[0m\u001b[1;33m(\u001b[0m\u001b[0mString1\u001b[0m\u001b[1;33m)\u001b[0m\u001b[1;33m\u001b[0m\u001b[0m\n",
      "\u001b[1;31mTypeError\u001b[0m: 'str' object does not support item assignment"
     ]
    }
   ],
   "source": [
    "String1 = \"Hello, Iam a Geek\"\n",
    "print(String1)\n",
    "\n",
    "String1[2] = 'p'\n",
    "print(\"\\nUpdating char at 2nd index:\")\n",
    "print(String1)"
   ]
  },
  {
   "cell_type": "code",
   "execution_count": 11,
   "metadata": {},
   "outputs": [
    {
     "name": "stdout",
     "output_type": "stream",
     "text": [
      "Hello, Iam a Geek\n",
      "\n",
      "Updated String:\n",
      "Welcome to the Geek World\n"
     ]
    }
   ],
   "source": [
    "String1 = \"Hello, Iam a Geek\"\n",
    "print(String1)\n",
    "\n",
    "String1 = \"Welcome to the Geek World\"\n",
    "print(\"\\nUpdated String:\")\n",
    "print(String1)"
   ]
  },
  {
   "cell_type": "code",
   "execution_count": 12,
   "metadata": {},
   "outputs": [
    {
     "name": "stdout",
     "output_type": "stream",
     "text": [
      "Hello, Iam a Geek\n"
     ]
    },
    {
     "ename": "TypeError",
     "evalue": "'str' object doesn't support item deletion",
     "output_type": "error",
     "traceback": [
      "\u001b[1;31m---------------------------------------------------------------------------\u001b[0m",
      "\u001b[1;31mTypeError\u001b[0m                                 Traceback (most recent call last)",
      "\u001b[1;32m<ipython-input-12-41e07d399912>\u001b[0m in \u001b[0;36m<module>\u001b[1;34m()\u001b[0m\n\u001b[0;32m      2\u001b[0m \u001b[0mprint\u001b[0m\u001b[1;33m(\u001b[0m\u001b[0mString1\u001b[0m\u001b[1;33m)\u001b[0m\u001b[1;33m\u001b[0m\u001b[0m\n\u001b[0;32m      3\u001b[0m \u001b[1;33m\u001b[0m\u001b[0m\n\u001b[1;32m----> 4\u001b[1;33m \u001b[1;32mdel\u001b[0m \u001b[0mString1\u001b[0m\u001b[1;33m[\u001b[0m\u001b[1;36m2\u001b[0m\u001b[1;33m]\u001b[0m\u001b[1;33m\u001b[0m\u001b[0m\n\u001b[0m\u001b[0;32m      5\u001b[0m \u001b[0mprint\u001b[0m\u001b[1;33m(\u001b[0m\u001b[1;34m\"\\nDeleting char at 2nd Index:\"\u001b[0m\u001b[1;33m)\u001b[0m\u001b[1;33m\u001b[0m\u001b[0m\n\u001b[0;32m      6\u001b[0m \u001b[0mprint\u001b[0m\u001b[1;33m(\u001b[0m\u001b[0mString1\u001b[0m\u001b[1;33m)\u001b[0m\u001b[1;33m\u001b[0m\u001b[0m\n",
      "\u001b[1;31mTypeError\u001b[0m: 'str' object doesn't support item deletion"
     ]
    }
   ],
   "source": [
    "String1 = 'Hello, Iam a Geek'\n",
    "print(String1)\n",
    "\n",
    "del String1[2]\n",
    "print(\"\\nDeleting char at 2nd Index:\")\n",
    "print(String1)"
   ]
  },
  {
   "cell_type": "code",
   "execution_count": 13,
   "metadata": {},
   "outputs": [
    {
     "name": "stdout",
     "output_type": "stream",
     "text": [
      "Hello, Iam a Geek\n",
      "\n",
      "Deleting entire String:\n"
     ]
    },
    {
     "ename": "NameError",
     "evalue": "name 'String1' is not defined",
     "output_type": "error",
     "traceback": [
      "\u001b[1;31m---------------------------------------------------------------------------\u001b[0m",
      "\u001b[1;31mNameError\u001b[0m                                 Traceback (most recent call last)",
      "\u001b[1;32m<ipython-input-13-bae1bcdc5efa>\u001b[0m in \u001b[0;36m<module>\u001b[1;34m()\u001b[0m\n\u001b[0;32m      4\u001b[0m \u001b[1;32mdel\u001b[0m \u001b[0mString1\u001b[0m\u001b[1;33m\u001b[0m\u001b[0m\n\u001b[0;32m      5\u001b[0m \u001b[0mprint\u001b[0m\u001b[1;33m(\u001b[0m\u001b[1;34m\"\\nDeleting entire String:\"\u001b[0m\u001b[1;33m)\u001b[0m\u001b[1;33m\u001b[0m\u001b[0m\n\u001b[1;32m----> 6\u001b[1;33m \u001b[0mprint\u001b[0m\u001b[1;33m(\u001b[0m\u001b[0mString1\u001b[0m\u001b[1;33m)\u001b[0m\u001b[1;33m\u001b[0m\u001b[0m\n\u001b[0m",
      "\u001b[1;31mNameError\u001b[0m: name 'String1' is not defined"
     ]
    }
   ],
   "source": [
    "String1 = \"Hello, Iam a Geek\"\n",
    "print(String1)\n",
    "\n",
    "del String1\n",
    "print(\"\\nDeleting entire String:\")\n",
    "print(String1)"
   ]
  },
  {
   "cell_type": "markdown",
   "metadata": {},
   "source": [
    "### python中的转义序列\n",
    "#### 如果单引号或者双引号包含的字符串中仍包含单引号或者双引号，需要使用转义；用反斜杠开头;或者都用三引号包含"
   ]
  },
  {
   "cell_type": "code",
   "execution_count": 19,
   "metadata": {},
   "outputs": [
    {
     "name": "stdout",
     "output_type": "stream",
     "text": [
      "Initial String with use of Triple quotes:\n",
      "I'm a \"Geek\"\n",
      "\n",
      "Escaping Single quote:\n",
      "I'm a \"Geek\"\n",
      "\n",
      "Escaping Double quote:\n",
      "I'm a \"Geek\"\n",
      "\n",
      "Escaping Backslashes:\n",
      "c:\\Python\\Geeks\\\n"
     ]
    }
   ],
   "source": [
    "String1 = '''I'm a \"Geek\"'''\n",
    "print(\"Initial String with use of Triple quotes:\")\n",
    "print(String1)\n",
    "\n",
    "String1 = 'I\\'m a \"Geek\"'\n",
    "print(\"\\nEscaping Single quote:\")\n",
    "print(String1)\n",
    "\n",
    "String1 = \"I'm a \\\"Geek\\\"\"\n",
    "print(\"\\nEscaping Double quote:\")\n",
    "print(String1)\n",
    "\n",
    "String1 = \"c:\\\\Python\\\\Geeks\\\\\"\n",
    "print(\"\\nEscaping Backslashes:\")\n",
    "print(String1)"
   ]
  },
  {
   "cell_type": "markdown",
   "metadata": {},
   "source": [
    "#### 要忽略字符串中的转义序列，使用r或者R"
   ]
  },
  {
   "cell_type": "code",
   "execution_count": 23,
   "metadata": {},
   "outputs": [
    {
     "name": "stdout",
     "output_type": "stream",
     "text": [
      "\n",
      "Printing in Hex with the use of Escape Sequences:\n",
      "This is Geek\n",
      "This is \\x47\\x65\\x65\\x6b\n"
     ]
    }
   ],
   "source": [
    "String1 = \"This is \\x47\\x65\\x65\\x6b\"\n",
    "print(\"\\nPrinting in Hex with the use of Escape Sequences:\")\n",
    "print(String1)\n",
    "\n",
    "String1 = r\"This is \\x47\\x65\\x65\\x6b\"\n",
    "print(String1)"
   ]
  },
  {
   "cell_type": "markdown",
   "metadata": {},
   "source": [
    "### 字符串的格式化\n",
    "#### 使用format()方法进行格式化；可以使用花括号作为占位符"
   ]
  },
  {
   "cell_type": "code",
   "execution_count": 31,
   "metadata": {},
   "outputs": [
    {
     "name": "stdout",
     "output_type": "stream",
     "text": [
      "geeksForlife\n",
      "Forgeekslife\n",
      "lifeforgeeks\n",
      "\n",
      "Binary representation of 16 is:\n",
      "10000\n",
      "\n",
      "Exponent representation of 165.6548 is:\n",
      "1.656548e+02\n",
      "\n",
      "none-sixth is :\n",
      "0.17\n"
     ]
    }
   ],
   "source": [
    "String1 = \"{}{}{}\".format('geeks', 'For', 'life')\n",
    "print(String1)\n",
    "\n",
    "String1 = \"{1}{0}{2}\".format('geeks', 'For','life')\n",
    "print(String1)\n",
    "String1 = \"{l}{f}{g}\".format(g = 'geeks', f = 'for', l = 'life')\n",
    "print(String1)\n",
    "\n",
    "String1 = \"{0:b}\".format(16)\n",
    "print(\"\\nBinary representation of 16 is:\")\n",
    "print(String1)\n",
    "\n",
    "String1 = \"{0:e}\".format(165.6548)\n",
    "print(\"\\nExponent representation of 165.6548 is:\")\n",
    "print(String1)\n",
    "\n",
    "String1 = \"{0:.2f}\".format(1/6)\n",
    "print(\"\\nnone-sixth is :\")\n",
    "print(String1)"
   ]
  },
  {
   "cell_type": "markdown",
   "metadata": {},
   "source": [
    "#### 旧格式以%运算符在不使用格式化方法的情况下使用"
   ]
  },
  {
   "cell_type": "code",
   "execution_count": 32,
   "metadata": {},
   "outputs": [
    {
     "name": "stdout",
     "output_type": "stream",
     "text": [
      "Formatting in .2f format:\n",
      "the value of Integer is 12.35\n"
     ]
    }
   ],
   "source": [
    "Integer1 = 12.3456789\n",
    "print(\"Formatting in .2f format:\")\n",
    "print('the value of Integer is %1.2f'%Integer1)"
   ]
  },
  {
   "cell_type": "code",
   "execution_count": null,
   "metadata": {},
   "outputs": [],
   "source": []
  }
 ],
 "metadata": {
  "kernelspec": {
   "display_name": "Python 3",
   "language": "python",
   "name": "python3"
  },
  "language_info": {
   "codemirror_mode": {
    "name": "ipython",
    "version": 3
   },
   "file_extension": ".py",
   "mimetype": "text/x-python",
   "name": "python",
   "nbconvert_exporter": "python",
   "pygments_lexer": "ipython3",
   "version": "3.7.0"
  }
 },
 "nbformat": 4,
 "nbformat_minor": 2
}
