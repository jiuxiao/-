{
 "cells": [
  {
   "cell_type": "markdown",
   "metadata": {},
   "source": [
    "## 条件语句 if elif else"
   ]
  },
  {
   "cell_type": "code",
   "execution_count": 20,
   "metadata": {},
   "outputs": [
    {
     "name": "stdout",
     "output_type": "stream",
     "text": [
      "welcome boss\n"
     ]
    }
   ],
   "source": [
    "flag = False\n",
    "name = 'python'\n",
    "if name == 'python':\n",
    "    flag = True\n",
    "    print('welcome boss')\n",
    "else:\n",
    "    print(name)"
   ]
  },
  {
   "cell_type": "code",
   "execution_count": 7,
   "metadata": {},
   "outputs": [
    {
     "name": "stdout",
     "output_type": "stream",
     "text": [
      "error\n"
     ]
    }
   ],
   "source": [
    "num = -1\n",
    "if num == 3:\n",
    "    print('boss')\n",
    "elif num == 2:\n",
    "    print('user')\n",
    "elif num == 1:\n",
    "    print('worker')\n",
    "elif num < 0:\n",
    "    print('error')\n",
    "else:\n",
    "    print('roadman')"
   ]
  },
  {
   "cell_type": "markdown",
   "metadata": {},
   "source": [
    "## and 和 or 判断多个条件"
   ]
  },
  {
   "cell_type": "code",
   "execution_count": 10,
   "metadata": {
    "scrolled": true
   },
   "outputs": [
    {
     "name": "stdout",
     "output_type": "stream",
     "text": [
      "hello\n",
      "underfine\n"
     ]
    }
   ],
   "source": [
    "num = 9\n",
    "if num >= 0 and num <= 10:\n",
    "    print('hello')\n",
    "\n",
    "num = 8\n",
    "if num < 0 or num > 10:\n",
    "    print('hello')\n",
    "    \n",
    "num = 8\n",
    "if (num >= 0 and num <= 5) or (num >= 10 and num <= 15):\n",
    "    print('hello')\n",
    "else:\n",
    "    print('underfine')"
   ]
  },
  {
   "cell_type": "code",
   "execution_count": 11,
   "metadata": {},
   "outputs": [
    {
     "name": "stdout",
     "output_type": "stream",
     "text": [
      "100\n"
     ]
    }
   ],
   "source": [
    "var = 100\n",
    "if (var == 100): print('100')"
   ]
  },
  {
   "cell_type": "markdown",
   "metadata": {},
   "source": [
    "## 循环语句"
   ]
  },
  {
   "cell_type": "markdown",
   "metadata": {},
   "source": [
    "### while循环"
   ]
  },
  {
   "cell_type": "code",
   "execution_count": 21,
   "metadata": {},
   "outputs": [
    {
     "name": "stdout",
     "output_type": "stream",
     "text": [
      "1\n",
      "3\n",
      "5\n",
      "7\n",
      "9\n"
     ]
    }
   ],
   "source": [
    "a = 1\n",
    "while a < 10:\n",
    "    print(a)\n",
    "    a += 2"
   ]
  },
  {
   "cell_type": "code",
   "execution_count": 23,
   "metadata": {
    "scrolled": true
   },
   "outputs": [
    {
     "name": "stdout",
     "output_type": "stream",
     "text": [
      "[8, 42, 12]\n",
      "[3, 5, 37]\n"
     ]
    }
   ],
   "source": [
    "numbers = [12,37, 5, 42, 8, 3]\n",
    "even = []\n",
    "odd = []\n",
    "while len(numbers) > 0:\n",
    "    number = numbers.pop()\n",
    "    if (number %2 == 0):\n",
    "        even.append(number)\n",
    "    else:\n",
    "        odd.append(number)\n",
    "print(even)\n",
    "print(odd)"
   ]
  },
  {
   "cell_type": "markdown",
   "metadata": {},
   "source": [
    "### continue break的用法"
   ]
  },
  {
   "cell_type": "code",
   "execution_count": 24,
   "metadata": {},
   "outputs": [
    {
     "name": "stdout",
     "output_type": "stream",
     "text": [
      "2\n",
      "4\n",
      "6\n",
      "8\n",
      "10\n",
      "1\n",
      "2\n",
      "3\n",
      "4\n",
      "5\n",
      "6\n",
      "7\n",
      "8\n",
      "9\n",
      "10\n"
     ]
    }
   ],
   "source": [
    "i = 1\n",
    "while i < 10:\n",
    "    i += 1\n",
    "    if i%2 > 0:\n",
    "        continue\n",
    "    print(i)\n",
    "    \n",
    "i = 1\n",
    "while 1:\n",
    "    print(i)\n",
    "    i += 1\n",
    "    if (i > 10):\n",
    "        break"
   ]
  },
  {
   "cell_type": "markdown",
   "metadata": {},
   "source": [
    "### 循环后接else语句"
   ]
  },
  {
   "cell_type": "code",
   "execution_count": 25,
   "metadata": {},
   "outputs": [
    {
     "name": "stdout",
     "output_type": "stream",
     "text": [
      "0 is less than 5\n",
      "1 is less than 5\n",
      "2 is less than 5\n",
      "3 is less than 5\n",
      "4 is less than 5\n",
      "5 is not less than 5\n"
     ]
    }
   ],
   "source": [
    "count = 0\n",
    "while count <5:\n",
    "    print(count, 'is less than 5')\n",
    "    count += 1\n",
    "else:\n",
    "    print(count, 'is not less than 5')"
   ]
  },
  {
   "cell_type": "markdown",
   "metadata": {},
   "source": [
    "### for 循环"
   ]
  },
  {
   "cell_type": "code",
   "execution_count": 26,
   "metadata": {},
   "outputs": [
    {
     "name": "stdout",
     "output_type": "stream",
     "text": [
      "当前字母： p\n",
      "当前字母： y\n",
      "当前字母： t\n",
      "当前字母： h\n",
      "当前字母： o\n",
      "当前字母： n\n",
      "当前水果： banana\n",
      "当前水果： apple\n",
      "当前水果： mango\n",
      "good bye\n"
     ]
    }
   ],
   "source": [
    "for letter in 'python':\n",
    "    print('当前字母：', letter)\n",
    "    \n",
    "fruits = ['banana', 'apple', 'mango']\n",
    "for fruit in fruits:\n",
    "    print('当前水果：', fruit)\n",
    "    \n",
    "print('good bye')"
   ]
  },
  {
   "cell_type": "markdown",
   "metadata": {},
   "source": [
    "### 通过索引迭代"
   ]
  },
  {
   "cell_type": "code",
   "execution_count": 27,
   "metadata": {},
   "outputs": [
    {
     "name": "stdout",
     "output_type": "stream",
     "text": [
      "当前水果： banana\n",
      "当前水果： apple\n",
      "当前水果： mango\n"
     ]
    }
   ],
   "source": [
    "fruits = ['banana', 'apple', 'mango']\n",
    "for index in range(len(fruits)):\n",
    "    print('当前水果：', fruits[index])"
   ]
  },
  {
   "cell_type": "markdown",
   "metadata": {},
   "source": [
    "### for后面使用else"
   ]
  },
  {
   "cell_type": "code",
   "execution_count": 28,
   "metadata": {},
   "outputs": [
    {
     "name": "stdout",
     "output_type": "stream",
     "text": [
      "10 等于 2 * 5\n",
      "11 是一个质数\n",
      "12 等于 2 * 6\n",
      "13 是一个质数\n",
      "14 等于 2 * 7\n",
      "15 等于 3 * 5\n",
      "16 等于 2 * 8\n",
      "17 是一个质数\n",
      "18 等于 2 * 9\n",
      "19 是一个质数\n"
     ]
    }
   ],
   "source": [
    "for num in range(10, 20):\n",
    "    for i in range(2, num):\n",
    "        if num%i == 0:\n",
    "            j = num/i\n",
    "            print('%d 等于 %d * %d' % (num, i, j))\n",
    "            break\n",
    "    else:\n",
    "        print(num, '是一个质数')"
   ]
  },
  {
   "cell_type": "markdown",
   "metadata": {},
   "source": [
    "### 循环嵌套"
   ]
  },
  {
   "cell_type": "code",
   "execution_count": 29,
   "metadata": {},
   "outputs": [
    {
     "name": "stdout",
     "output_type": "stream",
     "text": [
      "2 是素数\n",
      "3 是素数\n",
      "5 是素数\n",
      "7 是素数\n",
      "11 是素数\n",
      "13 是素数\n",
      "17 是素数\n",
      "19 是素数\n",
      "23 是素数\n",
      "29 是素数\n",
      "31 是素数\n",
      "37 是素数\n",
      "41 是素数\n",
      "43 是素数\n",
      "47 是素数\n",
      "53 是素数\n",
      "59 是素数\n",
      "61 是素数\n",
      "67 是素数\n",
      "71 是素数\n",
      "73 是素数\n",
      "79 是素数\n",
      "83 是素数\n",
      "89 是素数\n",
      "97 是素数\n",
      "good bye\n"
     ]
    }
   ],
   "source": [
    "i = 2\n",
    "while(i < 100):\n",
    "    j = 2\n",
    "    while(j <= (i /j)):\n",
    "        if not(i % j): break\n",
    "        j = j+1\n",
    "    if (j > i/j) : print(i, '是素数')\n",
    "    i = i +1\n",
    "print('good bye')        "
   ]
  },
  {
   "cell_type": "markdown",
   "metadata": {},
   "source": [
    "### break语句：跳出整个循环；如果多层循环，只跳出最接近break的那一层"
   ]
  },
  {
   "cell_type": "code",
   "execution_count": 30,
   "metadata": {},
   "outputs": [
    {
     "name": "stdout",
     "output_type": "stream",
     "text": [
      "当前字母： p\n",
      "当前字母： y\n",
      "当前字母： t\n",
      "当前变量值： 10\n",
      "当前变量值： 9\n",
      "当前变量值： 8\n",
      "当前变量值： 7\n",
      "当前变量值： 6\n",
      "good bye\n"
     ]
    }
   ],
   "source": [
    "for letter in 'python':\n",
    "    if letter == 'h':\n",
    "        break\n",
    "    print('当前字母：', letter)\n",
    "    \n",
    "var = 10\n",
    "while var > 0:\n",
    "    print('当前变量值：', var)\n",
    "    var = var -1\n",
    "    if var == 5:\n",
    "        break\n",
    "print('good bye')"
   ]
  },
  {
   "cell_type": "markdown",
   "metadata": {},
   "source": [
    "### continue 语句：跳出本次循环"
   ]
  },
  {
   "cell_type": "code",
   "execution_count": 31,
   "metadata": {},
   "outputs": [
    {
     "name": "stdout",
     "output_type": "stream",
     "text": [
      "当前字母 p\n",
      "当前字母 y\n",
      "当前字母 t\n",
      "当前字母 o\n",
      "当前字母 n\n",
      "当前变量值： 9\n",
      "当前变量值： 8\n",
      "当前变量值： 7\n",
      "当前变量值： 6\n",
      "当前变量值： 4\n",
      "当前变量值： 3\n",
      "当前变量值： 2\n",
      "当前变量值： 1\n",
      "当前变量值： 0\n",
      "good bye\n"
     ]
    }
   ],
   "source": [
    "for letter in 'python':\n",
    "    if letter == 'h':\n",
    "        continue\n",
    "    print('当前字母', letter)\n",
    "    \n",
    "var = 10\n",
    "while var > 0:\n",
    "    var = var -1\n",
    "    if var == 5:\n",
    "        continue\n",
    "    print('当前变量值：', var)\n",
    "print('good bye')"
   ]
  },
  {
   "cell_type": "markdown",
   "metadata": {},
   "source": [
    "### pass语句：占位语句，不做任何事情"
   ]
  },
  {
   "cell_type": "code",
   "execution_count": 32,
   "metadata": {},
   "outputs": [
    {
     "name": "stdout",
     "output_type": "stream",
     "text": [
      "当前字母： p\n",
      "当前字母： y\n",
      "当前字母： t\n",
      "这是pass块\n",
      "当前字母： h\n",
      "当前字母： o\n",
      "当前字母： n\n"
     ]
    }
   ],
   "source": [
    "for letter in 'python':\n",
    "    if letter == 'h':\n",
    "        pass\n",
    "        print('这是pass块')\n",
    "    print('当前字母：', letter)\n",
    "    "
   ]
  },
  {
   "cell_type": "code",
   "execution_count": null,
   "metadata": {},
   "outputs": [],
   "source": []
  }
 ],
 "metadata": {
  "kernelspec": {
   "display_name": "Python 3",
   "language": "python",
   "name": "python3"
  },
  "language_info": {
   "codemirror_mode": {
    "name": "ipython",
    "version": 3
   },
   "file_extension": ".py",
   "mimetype": "text/x-python",
   "name": "python",
   "nbconvert_exporter": "python",
   "pygments_lexer": "ipython3",
   "version": "3.7.0"
  }
 },
 "nbformat": 4,
 "nbformat_minor": 2
}
